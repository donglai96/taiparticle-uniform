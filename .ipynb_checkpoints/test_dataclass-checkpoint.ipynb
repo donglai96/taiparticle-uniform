{
 "cells": [
  {
   "cell_type": "code",
   "execution_count": 1,
   "id": "ad62ba5b",
   "metadata": {},
   "outputs": [
    {
     "name": "stdout",
     "output_type": "stream",
     "text": [
      "[Taichi] version 1.3.0, llvm 16.0.0git, commit 0f25b95e, osx, python 3.8.15\n",
      "[I 01/29/23 20:21:54.348 1583087] [shell.py:_shell_pop_print@33] Graphical python shell detected, using wrapped sys.stdout\n"
     ]
    }
   ],
   "source": [
    "import numpy as np\n",
    "import taichi as ti"
   ]
  },
  {
   "cell_type": "code",
   "execution_count": 2,
   "id": "7f7e14d9",
   "metadata": {},
   "outputs": [
    {
     "name": "stdout",
     "output_type": "stream",
     "text": [
      "[Taichi] Starting on arch=arm64\n"
     ]
    }
   ],
   "source": [
    "ti.init()"
   ]
  },
  {
   "cell_type": "code",
   "execution_count": 4,
   "id": "b6c8c8bb",
   "metadata": {},
   "outputs": [
    {
     "name": "stdout",
     "output_type": "stream",
     "text": [
      "[Taichi] Starting on arch=arm64\n",
      "time*** 0\n",
      "r outside [0.000000000000, 0.000000000000, 0.000000000000]\n",
      "r inside [0.000000000000, 0.000000000000, 0.000000000000]\n",
      "r inside [0.000000000000, 0.000000000000, 0.000000000000]\n",
      "time*** 1\n",
      "r outside [0.000000000000, 0.000000000000, 1.000000000000]\n",
      "r inside [0.000000000000, 0.000000000000, 0.000000000000]\n",
      "r inside [0.000000000000, 0.000000000000, 0.000000000000]\n",
      "time*** 2\n",
      "r outside [0.000000000000, 0.000000000000, 2.000000000000]\n",
      "r inside [0.000000000000, 0.000000000000, 0.000000000000]\n",
      "r inside [0.000000000000, 0.000000000000, 0.000000000000]\n",
      "time*** 3\n",
      "r outside [0.000000000000, 0.000000000000, 3.000000000000]\n",
      "r inside [0.000000000000, 0.000000000000, 0.000000000000]\n",
      "r inside [0.000000000000, 0.000000000000, 0.000000000000]\n",
      "time*** 4\n",
      "r outside [0.000000000000, 0.000000000000, 4.000000000000]\n",
      "r inside [0.000000000000, 0.000000000000, 0.000000000000]\n",
      "r inside [0.000000000000, 0.000000000000, 0.000000000000]\n",
      "time*** 0\n",
      "r outside [0.000000000000, 0.000000000000, 0.100000001490]\n",
      "r inside [0.000000000000, 0.000000000000, 0.100000001490]\n",
      "r inside [0.000000000000, 0.000000000000, 0.100000001490]\n",
      "time*** 1\n",
      "r outside [0.000000000000, 0.000000000000, 1.100000001490]\n",
      "r inside [0.000000000000, 0.000000000000, 0.100000001490]\n",
      "r inside [0.000000000000, 0.000000000000, 0.100000001490]\n",
      "time*** 2\n",
      "r outside [0.000000000000, 0.000000000000, 2.100000001490]\n",
      "r inside [0.000000000000, 0.000000000000, 0.100000001490]\n",
      "r inside [0.000000000000, 0.000000000000, 0.100000001490]\n",
      "time*** 3\n",
      "r outside [0.000000000000, 0.000000000000, 3.100000001490]\n",
      "r inside [0.000000000000, 0.000000000000, 0.100000001490]\n",
      "r inside [0.000000000000, 0.000000000000, 0.100000001490]\n",
      "time*** 4\n",
      "r outside [0.000000000000, 0.000000000000, 4.100000001490]\n",
      "r inside [0.000000000000, 0.000000000000, 0.100000001490]\n",
      "r inside [0.000000000000, 0.000000000000, 0.100000001490]\n",
      "time*** 0\n",
      "r outside [0.000000000000, 0.000000000000, 0.200000002980]\n",
      "r inside [0.000000000000, 0.000000000000, 0.200000002980]\n",
      "r inside [0.000000000000, 0.000000000000, 0.200000002980]\n",
      "time*** 1\n",
      "r outside [0.000000000000, 0.000000000000, 1.200000002980]\n",
      "r inside [0.000000000000, 0.000000000000, 0.200000002980]\n",
      "r inside [0.000000000000, 0.000000000000, 0.200000002980]\n",
      "time*** 2\n",
      "r outside [0.000000000000, 0.000000000000, 2.200000002980]\n",
      "r inside [0.000000000000, 0.000000000000, 0.200000002980]\n",
      "r inside [0.000000000000, 0.000000000000, 0.200000002980]\n",
      "time*** 3\n",
      "r outside [0.000000000000, 0.000000000000, 3.200000002980]\n",
      "r inside [0.000000000000, 0.000000000000, 0.200000002980]\n",
      "r inside [0.000000000000, 0.000000000000, 0.200000002980]\n",
      "time*** 4\n",
      "r outside [0.000000000000, 0.000000000000, 4.200000002980]\n",
      "r inside [0.000000000000, 0.000000000000, 0.200000002980]\n",
      "r inside [0.000000000000, 0.000000000000, 0.200000002980]\n"
     ]
    }
   ],
   "source": [
    "import taichi as ti\n",
    "\n",
    "ti.init()\n",
    "Np = 3\n",
    "Nw = 2\n",
    "Nt = 5\n",
    "\n",
    "@ti.dataclass\n",
    "class Particle:\n",
    "    r: ti.types.vector(3, ti.f64)\n",
    "    t: ti.f64\n",
    "    @ti.func\n",
    "    def initParticles(self,x,y,z):\n",
    "        self.r = ti.Vector([x,y,z])\n",
    "        self.t = 0\n",
    "\n",
    "\n",
    "\n",
    "particles = Particle.field(shape = (Np,))\n",
    "\n",
    "dr = 0.1\n",
    "dw = 0.3\n",
    "\n",
    "@ti.kernel\n",
    "def init():\n",
    "    for n in range(Np):\n",
    "        particles[n].initParticles(0,0,dr * n)\n",
    "        \n",
    "@ti.kernel\n",
    "def simulate():\n",
    "    for n in range(Np):\n",
    "        for t in range(Nt):\n",
    "            #rr = particles[n].r\n",
    "            print('time***',t )\n",
    "            print('r outside',particles[n].r)\n",
    "            for m in range(Nw):\n",
    "                print('r inside',particles[n].r) # why particles [n].r here showing particles' init value\n",
    "\n",
    "            particles[n].r +=ti.Vector([0,0,1])\n",
    "                \n",
    "init()\n",
    "simulate()"
   ]
  },
  {
   "cell_type": "code",
   "execution_count": null,
   "id": "25940f23",
   "metadata": {},
   "outputs": [],
   "source": []
  }
 ],
 "metadata": {
  "kernelspec": {
   "display_name": "Python 3 (ipykernel)",
   "language": "python",
   "name": "python3"
  },
  "language_info": {
   "codemirror_mode": {
    "name": "ipython",
    "version": 3
   },
   "file_extension": ".py",
   "mimetype": "text/x-python",
   "name": "python",
   "nbconvert_exporter": "python",
   "pygments_lexer": "ipython3",
   "version": "3.8.15"
  },
  "toc": {
   "base_numbering": 1,
   "nav_menu": {},
   "number_sections": true,
   "sideBar": true,
   "skip_h1_title": true,
   "title_cell": "Table of Contents",
   "title_sidebar": "Contents",
   "toc_cell": false,
   "toc_position": {},
   "toc_section_display": true,
   "toc_window_display": false
  },
  "varInspector": {
   "cols": {
    "lenName": 16,
    "lenType": 16,
    "lenVar": 40
   },
   "kernels_config": {
    "python": {
     "delete_cmd_postfix": "",
     "delete_cmd_prefix": "del ",
     "library": "var_list.py",
     "varRefreshCmd": "print(var_dic_list())"
    },
    "r": {
     "delete_cmd_postfix": ") ",
     "delete_cmd_prefix": "rm(",
     "library": "var_list.r",
     "varRefreshCmd": "cat(var_dic_list()) "
    }
   },
   "types_to_exclude": [
    "module",
    "function",
    "builtin_function_or_method",
    "instance",
    "_Feature"
   ],
   "window_display": false
  }
 },
 "nbformat": 4,
 "nbformat_minor": 5
}
