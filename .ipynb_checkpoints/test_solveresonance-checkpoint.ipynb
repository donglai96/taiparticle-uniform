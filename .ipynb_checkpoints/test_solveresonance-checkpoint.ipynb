{
 "cells": [
  {
   "cell_type": "code",
   "execution_count": 32,
   "id": "3aebf1cf",
   "metadata": {},
   "outputs": [
    {
     "name": "stdout",
     "output_type": "stream",
     "text": [
      "[Taichi] Starting on arch=arm64\n",
      "Calculating resonance energy\n",
      " resonance n is  -1\n",
      "momentum of resonating particles are: 3.42297582400134e-17\n",
      "resonant wave number is : 3.900738857205025e-06\n",
      "resonating frequency is (Hz)  1174.8679734368766\n",
      "E0 is  308.440311682174  keV\n"
     ]
    }
   ],
   "source": [
    "import shutil\n",
    "import os\n",
    "import numpy as np\n",
    "from sympy import Naturals0\n",
    "import taichi as ti\n",
    "import constants as cst\n",
    "from res_energy import * \n",
    "from particle import Particle\n",
    "from wave_generate import Waves_generate\n",
    "from wave import Wave\n",
    "import matplotlib.pyplot as plt\n",
    "import time\n",
    "from save_input import save_input\n",
    "###################################################\n",
    "# parameters\n",
    "# id = 'test140'\n",
    "# print('Welcome and start!')\n",
    "# print('id', id)\n",
    "# isExist = os.path.exists(id)\n",
    "# if not isExist:\n",
    "\n",
    "#    # Create a new directory because it does not exist\n",
    "#    os.makedirs(id)\n",
    "# else:\n",
    "#     raise ValueError('Could not create directory, please change the id')\n",
    "ti.init(arch = ti.cpu,default_fp=ti.f64)\n",
    "\n",
    "# background magnetic field strength (Gauss)\n",
    "B0 = 0.0014\n",
    "\n",
    "# density in cm^-3\n",
    "n0 = 10\n",
    "\n",
    "# number of charged particles\n",
    "Np = 400\n",
    "\n",
    "# initial pitch angle\n",
    "pitch_angle_degree = 91 # to the background magnetic field!\n",
    "\n",
    "\n",
    "# length of run (in gyroperiod)\n",
    "t_total_num = 1000\n",
    "\n",
    "# record x (how many step make a record)\n",
    "record_num = 250\n",
    "\n",
    "# time step (in gyroperiod)\n",
    "dt_num = 0.002\n",
    "\n",
    "# resonant wave frequency (in gyrofrequency)\n",
    "w_res_num = 0.3\n",
    "\n",
    "# lowercutoff and uppercutoff\n",
    "w_lc_num = 0.2\n",
    "w_uc_num = 0.4\n",
    "# wave frequency width\n",
    "w_width_num = 0.999\n",
    "\n",
    "# number of wave frequency \n",
    "nw = 100\n",
    "\n",
    "# z range in units of res wave\n",
    "dz_num = 200000\n",
    "# wave amplitude in Gauss\n",
    "Bw = 1e-7\n",
    "\n",
    "# init mass and charge\n",
    "mass = cst.Me\n",
    "charge = cst.Charge * -1 # -1 is electron\n",
    "\n",
    "# wave direction\n",
    "direction = 1\n",
    "\n",
    "#wave_distribution = \"Gaussian\"\n",
    "wave_distribution = \"Constant\"\n",
    "\n",
    "# initial energy in eV\n",
    "# end of parameter settings\n",
    "###################################################\n",
    "\n",
    "print('Calculating resonance energy')\n",
    "wce = gyrofrequency(cst.Charge,cst.Me,B0)\n",
    "alpha = np.deg2rad(pitch_angle_degree) # pitch angle is here!\n",
    "w = w_res_num * wce\n",
    "w_lc = w_lc_num * wce\n",
    "w_uc = w_uc_num * wce\n",
    "w_width = w_width_num * wce\n",
    "\n",
    "\n",
    "p0,k0 = get_resonance_p_whistler(w,wce,n0,alpha,nres = -1)\n",
    "print('momentum of resonating particles are:',p0)\n",
    "print('resonant wave number is :', k0)\n",
    "#erg_particle  = p2e(p)\n",
    "print('resonating frequency is (Hz) ', w/(2 * np.pi))\n",
    "\n",
    "print('E0 is ', erg2ev(p2e(p0))/1000, ' keV')"
   ]
  },
  {
   "cell_type": "code",
   "execution_count": 42,
   "id": "028f350a",
   "metadata": {},
   "outputs": [
    {
     "name": "stdout",
     "output_type": "stream",
     "text": [
      "3.42297582400134e-17\n"
     ]
    }
   ],
   "source": [
    "print(p0)"
   ]
  },
  {
   "cell_type": "code",
   "execution_count": 43,
   "id": "6aebb473",
   "metadata": {},
   "outputs": [
    {
     "name": "stdout",
     "output_type": "stream",
     "text": [
      "23444631329.8769\n"
     ]
    }
   ],
   "source": [
    "print(p2v(p0))\n",
    "v = p2v(p0)"
   ]
  },
  {
   "cell_type": "code",
   "execution_count": 35,
   "id": "2e97b5b6",
   "metadata": {},
   "outputs": [
    {
     "name": "stdout",
     "output_type": "stream",
     "text": [
      "3.900738857205025e-06\n"
     ]
    }
   ],
   "source": [
    "print(k0)"
   ]
  },
  {
   "cell_type": "code",
   "execution_count": 36,
   "id": "49abbabf",
   "metadata": {},
   "outputs": [],
   "source": [
    "\n",
    "lhs = w - k0 * v * np.cos(alpha)\n",
    "rhs = wce*(1 - (v**2)/cst.C**2)**0.5\n"
   ]
  },
  {
   "cell_type": "code",
   "execution_count": 37,
   "id": "0c06b5c0",
   "metadata": {},
   "outputs": [
    {
     "name": "stdout",
     "output_type": "stream",
     "text": [
      "15352.4265231142\n"
     ]
    }
   ],
   "source": [
    "print(lhs)"
   ]
  },
  {
   "cell_type": "code",
   "execution_count": 38,
   "id": "ce288083",
   "metadata": {},
   "outputs": [
    {
     "name": "stdout",
     "output_type": "stream",
     "text": [
      "15352.4265231142\n"
     ]
    }
   ],
   "source": [
    "print(rhs\n",
    "     )"
   ]
  },
  {
   "cell_type": "code",
   "execution_count": 39,
   "id": "38bfa150",
   "metadata": {},
   "outputs": [
    {
     "name": "stdout",
     "output_type": "stream",
     "text": [
      "7381.913188574439\n"
     ]
    }
   ],
   "source": [
    "print(w)"
   ]
  },
  {
   "cell_type": "code",
   "execution_count": 40,
   "id": "cf63a363",
   "metadata": {},
   "outputs": [
    {
     "data": {
      "text/plain": [
       "-0.08715574274765824"
      ]
     },
     "execution_count": 40,
     "metadata": {},
     "output_type": "execute_result"
    }
   ],
   "source": [
    "np.cos(alpha)"
   ]
  },
  {
   "cell_type": "code",
   "execution_count": 41,
   "id": "77f17191",
   "metadata": {},
   "outputs": [
    {
     "data": {
      "text/latex": [
       "$\\displaystyle 23444631329.8769$"
      ],
      "text/plain": [
       "23444631329.8769"
      ]
     },
     "execution_count": 41,
     "metadata": {},
     "output_type": "execute_result"
    }
   ],
   "source": [
    "v"
   ]
  },
  {
   "cell_type": "code",
   "execution_count": null,
   "id": "e554d1bf",
   "metadata": {},
   "outputs": [],
   "source": []
  }
 ],
 "metadata": {
  "kernelspec": {
   "display_name": "Python 3 (ipykernel)",
   "language": "python",
   "name": "python3"
  },
  "language_info": {
   "codemirror_mode": {
    "name": "ipython",
    "version": 3
   },
   "file_extension": ".py",
   "mimetype": "text/x-python",
   "name": "python",
   "nbconvert_exporter": "python",
   "pygments_lexer": "ipython3",
   "version": "3.8.16"
  },
  "toc": {
   "base_numbering": 1,
   "nav_menu": {},
   "number_sections": true,
   "sideBar": true,
   "skip_h1_title": true,
   "title_cell": "Table of Contents",
   "title_sidebar": "Contents",
   "toc_cell": false,
   "toc_position": {},
   "toc_section_display": true,
   "toc_window_display": false
  },
  "varInspector": {
   "cols": {
    "lenName": 16,
    "lenType": 16,
    "lenVar": 40
   },
   "kernels_config": {
    "python": {
     "delete_cmd_postfix": "",
     "delete_cmd_prefix": "del ",
     "library": "var_list.py",
     "varRefreshCmd": "print(var_dic_list())"
    },
    "r": {
     "delete_cmd_postfix": ") ",
     "delete_cmd_prefix": "rm(",
     "library": "var_list.r",
     "varRefreshCmd": "cat(var_dic_list()) "
    }
   },
   "types_to_exclude": [
    "module",
    "function",
    "builtin_function_or_method",
    "instance",
    "_Feature"
   ],
   "window_display": false
  }
 },
 "nbformat": 4,
 "nbformat_minor": 5
}
